{
 "cells": [
  {
   "cell_type": "code",
   "execution_count": 1,
   "metadata": {},
   "outputs": [
    {
     "name": "stdout",
     "output_type": "stream",
     "text": [
      "Collecting CountryInfo\n",
      "  Downloading countryinfo-0.1.2-py3-none-any.whl (602 kB)\n",
      "Installing collected packages: CountryInfo\n",
      "Successfully installed CountryInfo-0.1.2\n"
     ]
    }
   ],
   "source": [
    "!pip install CountryInfo"
   ]
  },
  {
   "cell_type": "code",
   "execution_count": 2,
   "metadata": {},
   "outputs": [
    {
     "name": "stdout",
     "output_type": "stream",
     "text": [
      "Collecting iso3166\n",
      "  Downloading iso3166-1.0.1-py2.py3-none-any.whl (8.2 kB)\n",
      "Installing collected packages: iso3166\n",
      "Successfully installed iso3166-1.0.1\n"
     ]
    }
   ],
   "source": [
    "!pip install iso3166"
   ]
  },
  {
   "cell_type": "code",
   "execution_count": null,
   "metadata": {},
   "outputs": [
    {
     "name": "stdout",
     "output_type": "stream",
     "text": [
      "<====>Country Information System<====>\n",
      "\n",
      "Enter Country Name : Pakistan\n",
      "Press the key to aceess given data \n",
      "0.Exit System \n",
      "1.Alternative Names \n",
      "2.Provinces\n",
      "3.Area \n",
      "4.Borders\n",
      "5.Capital\n",
      "6.Language \n",
      "7.Currencies \n",
      "8.Region \n",
      "9.Population \n",
      "10.TimesZone \n",
      "11.Top Level Domain \n",
      "12.Calling Code \n",
      "13.Latitude & Longitude \n",
      "Enter Key Number : 1\n",
      "['PK', 'Pākistān', 'Islamic Republic of Pakistan', \"Islāmī Jumhūriya'eh Pākistān\"]\n",
      "Continue the Program Y=yes N=noy\n",
      "<====>Country Information System<====>\n",
      "\n",
      "Enter Country Name : Pakistan\n",
      "Press the key to aceess given data \n",
      "0.Exit System \n",
      "1.Alternative Names \n",
      "2.Provinces\n",
      "3.Area \n",
      "4.Borders\n",
      "5.Capital\n",
      "6.Language \n",
      "7.Currencies \n",
      "8.Region \n",
      "9.Population \n",
      "10.TimesZone \n",
      "11.Top Level Domain \n",
      "12.Calling Code \n",
      "13.Latitude & Longitude \n",
      "Enter Key Number : 13\n",
      "[30, 70]\n"
     ]
    }
   ],
   "source": [
    "from countryinfo import CountryInfo #import CountryInfo to get Countries Basic Informations\n",
    "from iso3166 import countries #import iso3166 to get Countries Name\n",
    "def CountryInformation():\n",
    "    print(\"<====>Country Information System<====>\\n\")\n",
    "    country_name=input(\"Enter Country Name : \")\n",
    "    if country_name in countries:\n",
    "        print(\"Press the key to aceess given data \\n0.Exit System \\n1.Alternative Names \\n2.Provinces\\n3.Area \\n4.Borders\\n5.Capital\\n6.Language \\n7.Currencies \\n8.Region \\n9.Population \\n10.TimesZone \\n11.Top Level Domain \\n12.Calling Code \\n13.Latitude & Longitude \")\n",
    "        key=int(input(\"Enter Key Number : \"))\n",
    "\n",
    "        country = CountryInfo(country_name)\n",
    "\n",
    "        if key == 1:\n",
    "            print(country.alt_spellings())\n",
    "            con()\n",
    "\n",
    "        elif key == 2:\n",
    "            print(country.provinces())\n",
    "            con()\n",
    "        elif key == 3:\n",
    "            print(country.area())\n",
    "            con()\n",
    "        elif key == 4:\n",
    "            print(country.borders())\n",
    "            con()\n",
    "        elif key == 5:\n",
    "            print(country.capital())\n",
    "            con()\n",
    "        elif key == 6:\n",
    "            print(country.languages())\n",
    "            con()\n",
    "        elif key == 7:\n",
    "            print(country.currencies())\n",
    "            con()\n",
    "        elif key == 8:\n",
    "            print(country.region())\n",
    "            con()\n",
    "        elif key == 9:\n",
    "            print(country.population())\n",
    "            con()\n",
    "        elif key == 10:\n",
    "            print(country.timezones())\n",
    "            con()\n",
    "        elif key == 11:\n",
    "            print(country.tld())\n",
    "            con()\n",
    "        elif key == 12:\n",
    "            print(country.calling_codes())\n",
    "            con()\n",
    "        elif key == 13:\n",
    "            print(country.latlng())\n",
    "            con()\n",
    "        elif key == 0:\n",
    "            print(\"System Exit\")\n",
    "            con()\n",
    "        else:\n",
    "            print(\"Wrong Input\")\n",
    "            con()\n",
    "    else:\n",
    "        print(\"Wrong Country Name\\n\")\n",
    "    con()\n",
    "\n",
    "def con():\n",
    "    inp=input(\"Continue the Program Y=yes N=no\")\n",
    "    if inp == \"Y\" or inp == \"y\":\n",
    "        CountryInformation()\n",
    "    else:\n",
    "        exit()  \n",
    "CountryInformation()"
   ]
  }
 ],
 "metadata": {
  "kernelspec": {
   "display_name": "Python 3",
   "language": "python",
   "name": "python3"
  },
  "language_info": {
   "codemirror_mode": {
    "name": "ipython",
    "version": 3
   },
   "file_extension": ".py",
   "mimetype": "text/x-python",
   "name": "python",
   "nbconvert_exporter": "python",
   "pygments_lexer": "ipython3",
   "version": "3.7.6"
  }
 },
 "nbformat": 4,
 "nbformat_minor": 4
}
